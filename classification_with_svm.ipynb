{
 "cells": [
  {
   "cell_type": "code",
   "id": "initial_id",
   "metadata": {
    "collapsed": true,
    "ExecuteTime": {
     "end_time": "2025-02-19T21:24:59.268641Z",
     "start_time": "2025-02-19T21:24:56.719271Z"
    }
   },
   "source": [
    "import pandas as pd\n",
    "from sklearn import svm\n",
    "from sklearn.model_selection import train_test_split\n",
    "from Ml_feature_extractions import *\n",
    "from sklearn.preprocessing import StandardScaler\n",
    "from sklearn.model_selection import GridSearchCV\n",
    "from sklearn.metrics import accuracy_score, classification_report\n",
    "\n",
    "# Load the data\n",
    "data = pd.read_csv('ecg_sleep_apnea_dataset.csv')\n",
    "data.info()\n",
    "# data.head()"
   ],
   "outputs": [
    {
     "name": "stdout",
     "output_type": "stream",
     "text": [
      "<class 'pandas.core.frame.DataFrame'>\n",
      "RangeIndex: 2660 entries, 0 to 2659\n",
      "Columns: 2501 entries, 0 to Target\n",
      "dtypes: float64(2500), object(1)\n",
      "memory usage: 50.8+ MB\n"
     ]
    }
   ],
   "execution_count": 1
  },
  {
   "metadata": {
    "ExecuteTime": {
     "end_time": "2025-02-19T21:24:59.484297Z",
     "start_time": "2025-02-19T21:24:59.300365Z"
    }
   },
   "cell_type": "code",
   "source": [
    "# data cleaning\n",
    "data = data.dropna()\n",
    "\n",
    "data.info()"
   ],
   "id": "46b74c809e8a09c5",
   "outputs": [
    {
     "name": "stdout",
     "output_type": "stream",
     "text": [
      "<class 'pandas.core.frame.DataFrame'>\n",
      "RangeIndex: 2660 entries, 0 to 2659\n",
      "Columns: 2501 entries, 0 to Target\n",
      "dtypes: float64(2500), object(1)\n",
      "memory usage: 50.8+ MB\n"
     ]
    }
   ],
   "execution_count": 2
  },
  {
   "metadata": {
    "ExecuteTime": {
     "end_time": "2025-02-19T21:24:59.962363Z",
     "start_time": "2025-02-19T21:24:59.940659Z"
    }
   },
   "cell_type": "code",
   "source": [
    "X_raw = data.drop(columns=['Target'])\n",
    "y = data['Target'].map({'Normal': 0, 'Sleep Apnea': 1})"
   ],
   "id": "f88c8762bec1639a",
   "outputs": [],
   "execution_count": 3
  },
  {
   "metadata": {
    "ExecuteTime": {
     "end_time": "2025-02-19T21:25:09.009671Z",
     "start_time": "2025-02-19T21:25:00.031022Z"
    }
   },
   "cell_type": "code",
   "source": [
    "# feature extraction\n",
    "\n",
    "X_time_domain_features = pd.DataFrame(X_raw.apply(time_domain_features, axis=1).tolist())\n",
    "X_frequency_domain_features = pd.DataFrame(X_raw.apply(frequency_domain_features, axis=1).tolist())\n",
    "# X_statistical_features = pd.DataFrame(X_raw.apply(lambda row: statistical_ml_features(row.to_numpy(), 1), axis=1).tolist())\n",
    "\n",
    "X = pd.concat([X_time_domain_features, X_frequency_domain_features], axis=1)\n",
    "X.head()"
   ],
   "id": "46bccb6c3610e912",
   "outputs": [
    {
     "data": {
      "text/plain": [
       "       Mean    Median  Variance  Peak-to-Peak       RMS  Skewness  Kurtosis  \\\n",
       "0 -0.004083 -0.007762  0.244759      1.489249  0.494748  0.014516 -1.492490   \n",
       "1  0.015538  0.052688  0.257622      2.165627  0.507802 -0.078445 -1.440116   \n",
       "2  0.013602  0.063045  0.259179      2.137494  0.509278 -0.109863 -1.437862   \n",
       "3 -0.003737 -0.011746  0.245282      1.518203  0.495274  0.013777 -1.489838   \n",
       "4 -0.003419 -0.009266  0.245400      1.500802  0.495391  0.009598 -1.494796   \n",
       "\n",
       "    Entropy  Power Spectral Density Mean  Low-Frequency Power  \\\n",
       "0  2.232527                     0.004845             0.425195   \n",
       "1  2.011403                     0.004239             0.171849   \n",
       "2  2.020186                     0.004269             0.171789   \n",
       "3  2.244836                     0.004858             0.426447   \n",
       "4  2.239826                     0.004865             0.426806   \n",
       "\n",
       "   High-Frequency Power  Spectral Entropy  \n",
       "0              0.119728          0.863392  \n",
       "1              0.311533          1.780063  \n",
       "2              0.314522          1.790826  \n",
       "3              0.120175          0.862455  \n",
       "4              0.120552          0.862292  "
      ],
      "text/html": [
       "<div>\n",
       "<style scoped>\n",
       "    .dataframe tbody tr th:only-of-type {\n",
       "        vertical-align: middle;\n",
       "    }\n",
       "\n",
       "    .dataframe tbody tr th {\n",
       "        vertical-align: top;\n",
       "    }\n",
       "\n",
       "    .dataframe thead th {\n",
       "        text-align: right;\n",
       "    }\n",
       "</style>\n",
       "<table border=\"1\" class=\"dataframe\">\n",
       "  <thead>\n",
       "    <tr style=\"text-align: right;\">\n",
       "      <th></th>\n",
       "      <th>Mean</th>\n",
       "      <th>Median</th>\n",
       "      <th>Variance</th>\n",
       "      <th>Peak-to-Peak</th>\n",
       "      <th>RMS</th>\n",
       "      <th>Skewness</th>\n",
       "      <th>Kurtosis</th>\n",
       "      <th>Entropy</th>\n",
       "      <th>Power Spectral Density Mean</th>\n",
       "      <th>Low-Frequency Power</th>\n",
       "      <th>High-Frequency Power</th>\n",
       "      <th>Spectral Entropy</th>\n",
       "    </tr>\n",
       "  </thead>\n",
       "  <tbody>\n",
       "    <tr>\n",
       "      <th>0</th>\n",
       "      <td>-0.004083</td>\n",
       "      <td>-0.007762</td>\n",
       "      <td>0.244759</td>\n",
       "      <td>1.489249</td>\n",
       "      <td>0.494748</td>\n",
       "      <td>0.014516</td>\n",
       "      <td>-1.492490</td>\n",
       "      <td>2.232527</td>\n",
       "      <td>0.004845</td>\n",
       "      <td>0.425195</td>\n",
       "      <td>0.119728</td>\n",
       "      <td>0.863392</td>\n",
       "    </tr>\n",
       "    <tr>\n",
       "      <th>1</th>\n",
       "      <td>0.015538</td>\n",
       "      <td>0.052688</td>\n",
       "      <td>0.257622</td>\n",
       "      <td>2.165627</td>\n",
       "      <td>0.507802</td>\n",
       "      <td>-0.078445</td>\n",
       "      <td>-1.440116</td>\n",
       "      <td>2.011403</td>\n",
       "      <td>0.004239</td>\n",
       "      <td>0.171849</td>\n",
       "      <td>0.311533</td>\n",
       "      <td>1.780063</td>\n",
       "    </tr>\n",
       "    <tr>\n",
       "      <th>2</th>\n",
       "      <td>0.013602</td>\n",
       "      <td>0.063045</td>\n",
       "      <td>0.259179</td>\n",
       "      <td>2.137494</td>\n",
       "      <td>0.509278</td>\n",
       "      <td>-0.109863</td>\n",
       "      <td>-1.437862</td>\n",
       "      <td>2.020186</td>\n",
       "      <td>0.004269</td>\n",
       "      <td>0.171789</td>\n",
       "      <td>0.314522</td>\n",
       "      <td>1.790826</td>\n",
       "    </tr>\n",
       "    <tr>\n",
       "      <th>3</th>\n",
       "      <td>-0.003737</td>\n",
       "      <td>-0.011746</td>\n",
       "      <td>0.245282</td>\n",
       "      <td>1.518203</td>\n",
       "      <td>0.495274</td>\n",
       "      <td>0.013777</td>\n",
       "      <td>-1.489838</td>\n",
       "      <td>2.244836</td>\n",
       "      <td>0.004858</td>\n",
       "      <td>0.426447</td>\n",
       "      <td>0.120175</td>\n",
       "      <td>0.862455</td>\n",
       "    </tr>\n",
       "    <tr>\n",
       "      <th>4</th>\n",
       "      <td>-0.003419</td>\n",
       "      <td>-0.009266</td>\n",
       "      <td>0.245400</td>\n",
       "      <td>1.500802</td>\n",
       "      <td>0.495391</td>\n",
       "      <td>0.009598</td>\n",
       "      <td>-1.494796</td>\n",
       "      <td>2.239826</td>\n",
       "      <td>0.004865</td>\n",
       "      <td>0.426806</td>\n",
       "      <td>0.120552</td>\n",
       "      <td>0.862292</td>\n",
       "    </tr>\n",
       "  </tbody>\n",
       "</table>\n",
       "</div>"
      ]
     },
     "execution_count": 4,
     "metadata": {},
     "output_type": "execute_result"
    }
   ],
   "execution_count": 4
  },
  {
   "metadata": {
    "ExecuteTime": {
     "end_time": "2025-02-19T21:25:09.070357Z",
     "start_time": "2025-02-19T21:25:09.061721Z"
    }
   },
   "cell_type": "code",
   "source": [
    "# data scaling\n",
    "scaler = StandardScaler()\n",
    "X = scaler.fit_transform(X)"
   ],
   "id": "24fffac2d218a35a",
   "outputs": [],
   "execution_count": 5
  },
  {
   "metadata": {
    "ExecuteTime": {
     "end_time": "2025-02-19T21:25:09.134637Z",
     "start_time": "2025-02-19T21:25:09.126689Z"
    }
   },
   "cell_type": "code",
   "source": [
    "# data split\n",
    "x_train, x_test, y_train, y_test = train_test_split(X, y, test_size=0.3, random_state=42)\n",
    "\n",
    "print(x_train.shape, y_train.shape)\n",
    "print(x_test.shape, y_test.shape)"
   ],
   "id": "9d61557e754a0700",
   "outputs": [
    {
     "name": "stdout",
     "output_type": "stream",
     "text": [
      "(1862, 12) (1862,)\n",
      "(798, 12) (798,)\n"
     ]
    }
   ],
   "execution_count": 6
  },
  {
   "metadata": {
    "ExecuteTime": {
     "end_time": "2025-02-19T21:27:53.634115Z",
     "start_time": "2025-02-19T21:25:09.330589Z"
    }
   },
   "cell_type": "code",
   "source": [
    "# grid search for parameters\n",
    "param_grid = {'C': [0.1, 1, 10, 100], 'gamma': ['scale', 0.01, 0.1, 1], 'kernel': ['linear', 'poly','rbf']}\n",
    "grid_search = GridSearchCV(svm.SVC(), param_grid, cv=5)\n",
    "grid_search.fit(x_train, y_train)\n",
    "best_model = grid_search.best_estimator_\n",
    "\n",
    "print(\"Best Parameters:\", grid_search.best_params_)"
   ],
   "id": "619f125baf208660",
   "outputs": [
    {
     "name": "stdout",
     "output_type": "stream",
     "text": [
      "Best Parameters: {'C': 0.1, 'gamma': 'scale', 'kernel': 'linear'}\n"
     ]
    }
   ],
   "execution_count": 7
  },
  {
   "metadata": {
    "ExecuteTime": {
     "end_time": "2025-02-19T21:27:53.754764Z",
     "start_time": "2025-02-19T21:27:53.738449Z"
    }
   },
   "cell_type": "code",
   "source": [
    "# evaluation\n",
    "y_pred = best_model.predict(x_test)\n",
    "print(\"Accuracy:\", accuracy_score(y_test, y_pred))\n",
    "print(classification_report(y_test, y_pred))"
   ],
   "id": "32577f4b900e9faf",
   "outputs": [
    {
     "name": "stdout",
     "output_type": "stream",
     "text": [
      "Accuracy: 0.981203007518797\n",
      "              precision    recall  f1-score   support\n",
      "\n",
      "           0       0.98      0.98      0.98       392\n",
      "           1       0.98      0.98      0.98       406\n",
      "\n",
      "    accuracy                           0.98       798\n",
      "   macro avg       0.98      0.98      0.98       798\n",
      "weighted avg       0.98      0.98      0.98       798\n",
      "\n"
     ]
    }
   ],
   "execution_count": 8
  }
 ],
 "metadata": {
  "kernelspec": {
   "display_name": "Python 3",
   "language": "python",
   "name": "python3"
  },
  "language_info": {
   "codemirror_mode": {
    "name": "ipython",
    "version": 2
   },
   "file_extension": ".py",
   "mimetype": "text/x-python",
   "name": "python",
   "nbconvert_exporter": "python",
   "pygments_lexer": "ipython2",
   "version": "2.7.6"
  }
 },
 "nbformat": 4,
 "nbformat_minor": 5
}
